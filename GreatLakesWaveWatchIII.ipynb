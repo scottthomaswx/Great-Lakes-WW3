{
  "cells": [
    {
      "cell_type": "markdown",
      "metadata": {
        "id": "view-in-github",
        "colab_type": "text"
      },
      "source": [
        "<a href=\"https://colab.research.google.com/github/scottthomaswx/Great-Lakes-WW3/blob/main/GreatLakesWaveWatchIII.ipynb\" target=\"_parent\"><img src=\"https://colab.research.google.com/assets/colab-badge.svg\" alt=\"Open In Colab\"/></a>"
      ]
    },
    {
      "cell_type": "code",
      "execution_count": 10,
      "id": "67361634",
      "metadata": {
        "id": "67361634",
        "cellView": "form"
      },
      "outputs": [],
      "source": [
        "# @title\n",
        "#Load and import packages\n",
        "%%capture\n",
        "!pip install numpy\n",
        "!pip install xarray[complete]\n",
        "!pip install metpy\n",
        "!pip install matplotlib\n",
        "!pip install cartopy\n",
        "!pip install datetime\n",
        "!pip install requests\n",
        "!pip install pyproj\n",
        "!pip install pandas\n",
        "!pip install cfgrib\n",
        "!apt-get install -y libeccodes0\n",
        "!pip install cfgrib xarray\n",
        "!pip install sys\n",
        "!pip install warnings\n",
        "import xarray as xr\n",
        "import numpy as np\n",
        "import metpy\n",
        "import metpy.calc as mpcalc\n",
        "from metpy.units import units\n",
        "import matplotlib.pyplot as plt\n",
        "import cartopy.feature as cfeature\n",
        "from datetime import datetime, timezone\n",
        "import requests\n",
        "import cartopy.crs as ccrs\n",
        "from metpy.plots import USCOUNTIES\n",
        "from metpy.plots import add_timestamp\n",
        "import pyproj as proj\n",
        "import pandas as pd\n",
        "import sys\n",
        "import warnings\n",
        "import matplotlib.animation as animation\n",
        "warnings.filterwarnings('ignore')\n",
        "!rm -rf sample_data\n",
        "!mkdir WW3_Img"
      ]
    },
    {
      "cell_type": "markdown",
      "source": [
        "##Set Relevant Parameters"
      ],
      "metadata": {
        "id": "DqnrjAaDAsEu"
      },
      "id": "DqnrjAaDAsEu"
    },
    {
      "cell_type": "markdown",
      "source": [],
      "metadata": {
        "id": "9YNJfv0RDtM2"
      },
      "id": "9YNJfv0RDtM2"
    },
    {
      "cell_type": "code",
      "source": [
        "data_source = 'Operational' # @param [\"GLERL Experimental\", \"Operational\"]\n",
        "extent = 'Lake Huron' # @param [\"Lakes Michigan and Huron\", \"Lake Erie\", \"Lake Ontario\", \"Lake Superior\", \"Pictured Rocks Natl Lakeshore\", \"Lake Michigan\", \"Lake Huron\"]"
      ],
      "metadata": {
        "id": "x7rXtoWi1pa3"
      },
      "id": "x7rXtoWi1pa3",
      "execution_count": 71,
      "outputs": []
    },
    {
      "cell_type": "markdown",
      "source": [
        "#Obtain Wavewatch Three Data"
      ],
      "metadata": {
        "id": "M8WylGFBAmIY"
      },
      "id": "M8WylGFBAmIY"
    },
    {
      "cell_type": "code",
      "execution_count": 24,
      "id": "13475c21",
      "metadata": {
        "id": "13475c21",
        "cellView": "form"
      },
      "outputs": [],
      "source": [
        "# @title\n",
        "#Get and Save WaveWatch III Data\n",
        "\n",
        "if data_source == 'GLERL Experimental':\n",
        "  WW = 'https://www.glerl.noaa.gov/emf/waves/WW3/images/nomads.grib2'\n",
        "elif data_source == 'Operational':\n",
        "  now_utc = datetime.now(timezone.utc)\n",
        "  run_12z =  datetime.now(timezone.utc).replace(hour=13, minute = 27, second=0)\n",
        "  run_18z =  datetime.now(timezone.utc).replace(hour=19, minute=27, second=0)\n",
        "  run_00z =  datetime.now(timezone.utc).replace(hour=1, minute=27, second=0)\n",
        "  run_06z = datetime.now(timezone.utc).replace(hour=7, minute=27, second=0)\n",
        "  if now_utc > run_12z and now_utc < run_18z:\n",
        "    model_year = str(datetime.now(timezone.utc).year)\n",
        "    if datetime.now(timezone.utc).month < 10:\n",
        "      model_month = '0'+str(datetime.now(timezone.utc).month)\n",
        "    else:\n",
        "      model_month = str(datetime.now(timezone.utc).month)\n",
        "    model_day = str(datetime.now(timezone.utc).day)\n",
        "    WW = f'https://nomads.ncep.noaa.gov/cgi-bin/filter_glwu.pl?dir=%2Fglwu.{model_year}{model_month}{model_day}&file=glwu.grlc_2p5km.t13z.grib2&all_var=on&all_lev=on'\n",
        "  elif now_utc > run_18z and now_utc < run_00z:\n",
        "    model_year = str(datetime.now(timezone.utc).year)\n",
        "    if datetime.now(timezone.utc).month < 10:\n",
        "          model_month = '0'+str(datetime.now(timezone.utc).month)\n",
        "    else:\n",
        "        model_month = str(datetime.now(timezone.utc).month)\n",
        "    model_day = str(datetime.now(timezone.utc).day)\n",
        "    WW = f'https://nomads.ncep.noaa.gov/cgi-bin/filter_glwu.pl?dir=%2Fglwu.{model_year}{model_month}{model_day}&file=glwu.grlc_2p5km.t19z.grib2&all_var=on&all_lev=on'\n",
        "  elif now_utc > run_00z and now_utc < run_06z:\n",
        "    model_year = str(datetime.now(timezone.utc).year)\n",
        "    if datetime.now(timezone.utc).month < 10:\n",
        "          model_month = '0'+str(datetime.now(timezone.utc).month)\n",
        "    else:\n",
        "          model_month = str(datetime.now(timezone.utc).month)\n",
        "    model_day = str(datetime.now(timezone.utc).day)\n",
        "    WW = f'https://nomads.ncep.noaa.gov/cgi-bin/filter_glwu.pl?dir=%2Fglwu.{model_year}{model_month}{model_day}&file=glwu.grlc_2p5km.t01z.grib2&all_var=on&all_lev=on'\n",
        "  elif now_utc > run_06z and now_utc < run_12z:\n",
        "    model_year = str(datetime.now(timezone.utc).year)\n",
        "    if datetime.now(timezone.utc).month < 10:\n",
        "        model_month = '0'+str(datetime.now(timezone.utc).month)\n",
        "    else:\n",
        "        model_month = str(datetime.now(timezone.utc).month)\n",
        "  model_day = str(datetime.now(timezone.utc).day)\n",
        "  WW = f'https://nomads.ncep.noaa.gov/cgi-bin/filter_glwu.pl?dir=%2Fglwu.{model_year}{model_month}{model_day}&file=glwu.grlc_2p5km.t07z.grib2&all_var=on&all_lev=on'\n",
        "r1 = requests.get(WW)\n",
        "file1='/content/latestwavewatch.grib2'\n",
        "with open(file1, 'wb') as f1:\n",
        "               f1.write(r1.content)"
      ]
    },
    {
      "cell_type": "code",
      "source": [
        "# @title\n",
        "%%capture\n",
        "ww3 = xr.open_dataset(file1, engine=\"cfgrib\")\n",
        "swh = ww3.metpy.parse_cf('swh').metpy.convert_units('ft')"
      ],
      "metadata": {
        "id": "fC6-1kGXIQHc",
        "cellView": "form"
      },
      "id": "fC6-1kGXIQHc",
      "execution_count": 26,
      "outputs": []
    },
    {
      "cell_type": "markdown",
      "source": [
        "#Map Wavewatch III Data\n",
        "## Output Will Be In Folder In Left Pane\n"
      ],
      "metadata": {
        "id": "_zhDYFhYgUiu"
      },
      "id": "_zhDYFhYgUiu"
    },
    {
      "cell_type": "code",
      "source": [
        "# @title\n",
        "%%capture\n",
        "float_formatter = \"{:03d}\".format\n",
        "i=0\n",
        "rounded = np.array(swh.time, dtype='datetime64[m]')\n",
        "while i <  len(ww3['valid_time']):\n",
        "    #Create Figure and Subplot\n",
        "    fig = plt.figure(figsize=(14,8), facecolor='white', edgecolor = 'black', linewidth = 6)\n",
        "\n",
        "    ax=fig.add_subplot(1,1,1, projection=ccrs.PlateCarree())\n",
        "    ax.set_box_aspect(0.7)\n",
        "\n",
        "    #Create Wave Contours\n",
        "    wave_fill = ax.contourf(swh.longitude,swh.latitude,swh.isel(step=i), cmap='magma', levels = np.arange(0,21,1), zorder=7, transform=ccrs.PlateCarree())\n",
        "    wave_cont = ax.contour(swh.longitude,swh.latitude,swh.isel(step=i), color='black', levels = np.arange(0,21,1), zorder=7, transform=ccrs.PlateCarree())\n",
        "    wavelabels= ax.clabel(wave_cont, fmt='%01d', fontsize = 'large', colors = 'black')\n",
        "\n",
        "    #Plot and SUbplot Settings\n",
        "    plt.colorbar(wave_fill, orientation='vertical',pad=0.02, aspect=50, shrink=0.935, label = 'Wave Height (ft)')\n",
        "    if data_source == 'GLERL Experimental':\n",
        "      plt.figtext(0.125, 0.08, f'SCOTT THOMAS | SOURCE: GLERL Experimental WW3', weight='bold', color='black', fontsize=16, ha='left', alpha=0.8)\n",
        "    elif data_source == 'Operational':\n",
        "      plt.figtext(0.125, 0.08, f'SCOTT THOMAS | SOURCE: NCEP Operational WW3', weight='bold', color='black', fontsize=16, ha='left', alpha=0.8)\n",
        "    plt.figtext(0.125, 0.04, f'Note: Areas in White Either Have Missing Data OR Are Ice Covered', color='black', fontsize=12, ha='left', alpha=0.8)\n",
        "    plt.figtext(0.125, 0.895, f'Runtime: {rounded} at FHR: {i}', ha='left', weight='bold', fontsize=12)\n",
        "    ax.coastlines(color='black',resolution='10m',zorder=99)\n",
        "    ax.add_feature(cfeature.STATES.with_scale('50m'),edgecolor='black', zorder=9, facecolor = 'lightgray')\n",
        "\n",
        "\n",
        "    #Adjust Lat/Long To Map\n",
        "    if extent == 'Lakes Michigan and Huron':\n",
        "      ax.set_extent((-88.25,-81,41.5,46.25))\n",
        "      plt.figtext(0.125, 0.92, f'WW3 Significant Wave Height (Feet) - Lakes Michigan and Huron', ha='left', weight='bold', fontsize=15)\n",
        "    elif extent == 'Lake Superior':\n",
        "      ax.set_extent((-92.25,-84.25,46,49))\n",
        "      plt.figtext(0.125, 0.92, f'WW3 Significant Wave Height (Feet) - Lake Superior', ha='left', weight='bold', fontsize=15)\n",
        "    elif extent == 'Pictured Rocks Natl Lakeshore':\n",
        "      ax.set_extent((-87.25,-85.75,46.25, 47))\n",
        "      plt.figtext(0.125, 0.92, f'WW3 Significant Wave Height (Feet) - Pictured Rocks Natl. Lakeshore', ha='left', weight='bold', fontsize=15)\n",
        "    elif extent == 'Lake Ontario':\n",
        "      ax.set_extent((-80,-76,42.25, 44.25))\n",
        "      plt.figtext(0.125, 0.92, f'WW3 Significant Wave Height (Feet) - Lake Ontario', ha='left', weight='bold', fontsize=15)\n",
        "    elif extent == 'Lake Erie':\n",
        "      ax.set_extent((-83.5, -78.75, 41.25, 43.25))\n",
        "      plt.figtext(0.125, 0.92, f'WW3 Significant Wave Height (Feet) - Lake Erie', ha='left', weight='bold', fontsize=15)\n",
        "    elif extent == 'Lake Michigan':\n",
        "      ax.set_extent((-88.25,-85.75,41.5, 46))\n",
        "      plt.figtext(0.125, 0.92, f'WW3 Significant Wave Height (Feet) - Lake Michigan', ha='left', weight='bold', fontsize=15)\n",
        "    elif extent == 'Lake Huron':\n",
        "      ax.set_extent((-85,-79.75,42.75, 46.75))\n",
        "      plt.figtext(0.125, 0.92, f'WW3 Significant Wave Height (Feet) - Lake Huron', ha='left', weight='bold', fontsize=15)\n",
        "    add_timestamp(ax, swh['valid_time'][i].values.astype('datetime64[ms]').astype('O'),\n",
        "                  y=0.02, high_contrast=True, color = 'white', pretext = 'Valid: ', zorder=10)\n",
        "    #Save Figure\n",
        "    plt.savefig('/content/WW3_Img/WW3_FHR'+str(float_formatter(i))+'.png', dpi=100, bbox_inches='tight')\n",
        "    i+=1"
      ],
      "metadata": {
        "cellView": "form",
        "id": "QP4SO0-hGQ-0"
      },
      "id": "QP4SO0-hGQ-0",
      "execution_count": null,
      "outputs": []
    }
  ],
  "metadata": {
    "kernelspec": {
      "display_name": "Python 3 (ipykernel)",
      "language": "python",
      "name": "python3"
    },
    "language_info": {
      "codemirror_mode": {
        "name": "ipython",
        "version": 3
      },
      "file_extension": ".py",
      "mimetype": "text/x-python",
      "name": "python",
      "nbconvert_exporter": "python",
      "pygments_lexer": "ipython3",
      "version": "3.9.17"
    },
    "colab": {
      "provenance": [],
      "include_colab_link": true
    }
  },
  "nbformat": 4,
  "nbformat_minor": 5
}