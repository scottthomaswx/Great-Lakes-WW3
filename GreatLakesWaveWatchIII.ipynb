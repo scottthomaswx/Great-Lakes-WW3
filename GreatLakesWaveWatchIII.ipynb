{
  "cells": [
    {
      "cell_type": "markdown",
      "metadata": {
        "id": "view-in-github",
        "colab_type": "text"
      },
      "source": [
        "<a href=\"https://colab.research.google.com/github/scottthomaswx/Great-Lakes-WW3/blob/main/GreatLakesWaveWatchIII.ipynb\" target=\"_parent\"><img src=\"https://colab.research.google.com/assets/colab-badge.svg\" alt=\"Open In Colab\"/></a>"
      ]
    },
    {
      "cell_type": "code",
      "execution_count": null,
      "id": "67361634",
      "metadata": {
        "id": "67361634"
      },
      "outputs": [],
      "source": [
        "#Load and import packages\n",
        "%%capture\n",
        "!pip install numpy\n",
        "!pip install xarray[complete]\n",
        "!pip install metpy\n",
        "!pip install matplotlib\n",
        "!pip install cartopy\n",
        "!pip install datetime\n",
        "!pip install requests\n",
        "!pip install pyproj\n",
        "!pip install pandas\n",
        "!pip install cfgrib\n",
        "!apt-get install -y libeccodes0\n",
        "!pip install cfgrib xarray\n",
        "!pip install sys\n",
        "!pip install warnings\n",
        "import xarray as xr\n",
        "import numpy as np\n",
        "import metpy\n",
        "import metpy.calc as mpcalc\n",
        "from metpy.units import units\n",
        "import matplotlib.pyplot as plt\n",
        "import cartopy.feature as cfeature\n",
        "from datetime import datetime\n",
        "import requests\n",
        "import cartopy.crs as ccrs\n",
        "from metpy.plots import USCOUNTIES\n",
        "from metpy.plots import add_timestamp\n",
        "import pyproj as proj\n",
        "import pandas as pd\n",
        "import sys\n",
        "import warnings\n",
        "import matplotlib.animation as animation\n",
        "warnings.filterwarnings('ignore')"
      ]
    },
    {
      "cell_type": "code",
      "execution_count": null,
      "id": "13475c21",
      "metadata": {
        "id": "13475c21"
      },
      "outputs": [],
      "source": [
        "#Get and Save WaveWatch III Data\n",
        "WW = 'https://www.glerl.noaa.gov/emf/waves/WW3/images/nomads.grib2'\n",
        "r1 = requests.get(WW)\n",
        "file1='/content/ww.grib2'\n",
        "with open(file1, 'wb') as f1:\n",
        "                f1.write(r1.content)"
      ]
    },
    {
      "cell_type": "code",
      "source": [
        "%%capture\n",
        "ww3 = xr.open_dataset(file1, engine=\"cfgrib\")\n",
        "swh = ww3.metpy.parse_cf('swh').metpy.convert_units('ft')"
      ],
      "metadata": {
        "id": "fC6-1kGXIQHc"
      },
      "id": "fC6-1kGXIQHc",
      "execution_count": null,
      "outputs": []
    },
    {
      "cell_type": "markdown",
      "source": [
        "#Map of Wavewatch III Data\n"
      ],
      "metadata": {
        "id": "_zhDYFhYgUiu"
      },
      "id": "_zhDYFhYgUiu"
    },
    {
      "cell_type": "code",
      "execution_count": null,
      "id": "267b1e10",
      "metadata": {
        "id": "267b1e10"
      },
      "outputs": [],
      "source": [
        "%%capture\n",
        "!mkdir FcstHourFiles\n",
        "float_formatter = \"{:03d}\".format\n",
        "i=0\n",
        "rounded = np.array(swh.time, dtype='datetime64[m]')\n",
        "while i <  len(ww3['valid_time']):\n",
        "    #Create Figure and Subplot\n",
        "    fig = plt.figure(figsize=(14,8), facecolor='white', edgecolor = 'black', linewidth = 6)\n",
        "\n",
        "    ax=fig.add_subplot(1,1,1, projection=ccrs.PlateCarree())\n",
        "\n",
        "    #Create Wave Contours\n",
        "    wave_fill = ax.contourf(swh.longitude,swh.latitude,swh.isel(step=i), cmap='viridis_r', levels = np.arange(0,21,1), zorder=7, transform=ccrs.PlateCarree())\n",
        "    wave_cont = ax.contour(swh.longitude,swh.latitude,swh.isel(step=i), color='black', levels = np.arange(0,21,1), zorder=7, transform=ccrs.PlateCarree())\n",
        "    wavelabels= ax.clabel(wave_cont, fmt='%01d', fontsize = 'large', colors = 'black')\n",
        "\n",
        "    #Plot and SUbplot Settings\n",
        "    plt.colorbar(wave_fill, orientation='vertical',pad=0.02, aspect=50, shrink=0.935, label = 'Wave Height (ft)')\n",
        "    plt.figtext(0.125, 0.08, f'SCOTT THOMAS | SOURCE: GLERL', weight='bold', color='black', fontsize=16, ha='left', alpha=0.8)\n",
        "    plt.figtext(0.13, 0.905, f'WW3 Significant Wave Height (Feet)', ha='left', weight='bold', fontsize=15)\n",
        "    plt.figtext(0.13, 0.875, f'Runtime: {rounded} at FHR: {i}', ha='left', weight='bold', fontsize=12)\n",
        "    ax.coastlines(color='black',resolution='10m',zorder=99)\n",
        "    ax.add_feature(cfeature.STATES.with_scale('50m'),edgecolor='black', zorder=9, facecolor = 'grey')\n",
        "\n",
        "    #Adjust Lat/Long To Map\n",
        "    ax.set_extent((-88.25,-81,41.5,46.25))\n",
        "    add_timestamp(ax, swh['valid_time'][i].values.astype('datetime64[ms]').astype('O'),\n",
        "                  y=0.02, high_contrast=True, color = 'white', pretext = 'Valid: ', zorder=10)\n",
        "    #Save Figure\n",
        "    plt.savefig('/content/FcstHourFiles/WW3_FHR'+str(float_formatter(i))+'.png', dpi=100, bbox_inches='tight')\n",
        "    i+=1"
      ]
    }
  ],
  "metadata": {
    "kernelspec": {
      "display_name": "Python 3 (ipykernel)",
      "language": "python",
      "name": "python3"
    },
    "language_info": {
      "codemirror_mode": {
        "name": "ipython",
        "version": 3
      },
      "file_extension": ".py",
      "mimetype": "text/x-python",
      "name": "python",
      "nbconvert_exporter": "python",
      "pygments_lexer": "ipython3",
      "version": "3.9.17"
    },
    "colab": {
      "provenance": [],
      "include_colab_link": true
    }
  },
  "nbformat": 4,
  "nbformat_minor": 5
}